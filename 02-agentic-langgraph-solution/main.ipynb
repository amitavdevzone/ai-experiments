{
 "cells": [
  {
   "cell_type": "markdown",
   "metadata": {},
   "source": [
    "# Building Graph based Agentic solutions\n",
    "\n",
    "This notebook code is where I explain how we can build Agentic solutions using StateGraph from Langgraph.\n",
    "\n",
    "Langgraph allows us to create a controlled workflow based on a state and allows us to invoke different paths."
   ]
  },
  {
   "cell_type": "code",
   "execution_count": null,
   "metadata": {},
   "outputs": [],
   "source": [
    "! pip install -U dotenv langchain_groq langchain langgraph"
   ]
  },
  {
   "cell_type": "markdown",
   "metadata": {},
   "source": [
    "### Importing stuff"
   ]
  },
  {
   "cell_type": "code",
   "execution_count": 16,
   "metadata": {},
   "outputs": [],
   "source": [
    "from langgraph.graph import StateGraph, END\n",
    "from langchain_groq import ChatGroq\n",
    "from typing import TypedDict\n",
    "from dotenv import load_dotenv\n",
    "import os"
   ]
  },
  {
   "cell_type": "markdown",
   "metadata": {},
   "source": [
    "### Load the API key and create model instance\n",
    "\n",
    "Using the .env file to store the groq API key and then create the LLM instance which we will use for two nodes\n",
    "1. Intent detection\n",
    "2. Answer generic question"
   ]
  },
  {
   "cell_type": "code",
   "execution_count": 17,
   "metadata": {},
   "outputs": [],
   "source": [
    "load_dotenv()\n",
    "groq_api_key = os.getenv(\"GROQ_API_KEY\")\n",
    "\n",
    "model = ChatGroq(model=\"llama3-8b-8192\", api_key=groq_api_key)"
   ]
  },
  {
   "cell_type": "markdown",
   "metadata": {},
   "source": [
    "### The GraphState\n",
    "\n",
    "This is the state that we will be using to store the data that we might require through the workflow "
   ]
  },
  {
   "cell_type": "code",
   "execution_count": 18,
   "metadata": {},
   "outputs": [],
   "source": [
    "class GraphState(TypedDict):\n",
    "    question: str\n",
    "    intent: str\n",
    "    answer: str"
   ]
  },
  {
   "cell_type": "markdown",
   "metadata": {},
   "source": [
    "### Detect intent "
   ]
  },
  {
   "cell_type": "code",
   "execution_count": 19,
   "metadata": {},
   "outputs": [],
   "source": [
    "# Intent detection node\n",
    "def detect_intent(state: GraphState) -> GraphState:\n",
    "    question = state[\"question\"]\n",
    "    prompt = f\"\"\"Classify the intent of this question into one of three categories:\n",
    "    1. order_status\n",
    "    2. product_recommendation\n",
    "    3. general\n",
    "    Question: {question}\n",
    "    Return only the intent category name.\"\"\"\n",
    "\n",
    "    response = model.invoke(prompt)\n",
    "    state[\"intent\"] = response.content.strip()\n",
    "    return state"
   ]
  },
  {
   "cell_type": "markdown",
   "metadata": {},
   "source": [
    "### Other intent handlers"
   ]
  },
  {
   "cell_type": "code",
   "execution_count": 20,
   "metadata": {},
   "outputs": [],
   "source": [
    "# Order status node\n",
    "def get_order_status(state: GraphState) -> GraphState:\n",
    "    state[\"answer\"] = \"Please provide your order ID to check the status.\"\n",
    "    return state\n",
    "\n",
    "\n",
    "# Product recommendation node\n",
    "def get_recommendation(state: GraphState) -> GraphState:\n",
    "    state[\"answer\"] = \"Please specify what type of product you're looking for\"\n",
    "    return state\n",
    "\n",
    "\n",
    "# General answer node\n",
    "def answer_general(state: GraphState) -> GraphState:\n",
    "    question = state[\"question\"]\n",
    "    response = model.invoke(question)\n",
    "    state[\"answer\"] = response.content\n",
    "    return state"
   ]
  },
  {
   "cell_type": "markdown",
   "metadata": {},
   "source": [
    "### Defining the workflow\n",
    "\n",
    "This is where we create out state graph and workflow.\n",
    "\n",
    "We add all the nodes here, define the entry point."
   ]
  },
  {
   "cell_type": "code",
   "execution_count": 21,
   "metadata": {},
   "outputs": [
    {
     "data": {
      "text/plain": [
       "<langgraph.graph.state.StateGraph at 0x106f72c10>"
      ]
     },
     "execution_count": 21,
     "metadata": {},
     "output_type": "execute_result"
    }
   ],
   "source": [
    "# Create the graph\n",
    "workflow = StateGraph(GraphState)\n",
    "\n",
    "# Add nodes\n",
    "workflow.add_node(\"detect_intent\", detect_intent)\n",
    "workflow.add_node(\"order_status\", get_order_status)\n",
    "workflow.add_node(\"recommendation\", get_recommendation)\n",
    "workflow.add_node(\"general_answer\", answer_general)\n",
    "\n",
    "# Set entry point\n",
    "workflow.set_entry_point(\"detect_intent\")"
   ]
  },
  {
   "cell_type": "markdown",
   "metadata": {},
   "source": [
    "### Conditional edges"
   ]
  },
  {
   "cell_type": "code",
   "execution_count": 22,
   "metadata": {},
   "outputs": [],
   "source": [
    "# Routing function\n",
    "def route_based_on_intent(state: GraphState):\n",
    "    intent = state[\"intent\"]\n",
    "    if intent == \"order_status\":\n",
    "        return \"order_status\"\n",
    "    elif intent == \"product_recommendation\":\n",
    "        return \"product_recommendation\"\n",
    "    else:\n",
    "        return \"general_answer\""
   ]
  },
  {
   "cell_type": "code",
   "execution_count": 23,
   "metadata": {},
   "outputs": [
    {
     "data": {
      "text/plain": [
       "<langgraph.graph.state.StateGraph at 0x106f72c10>"
      ]
     },
     "execution_count": 23,
     "metadata": {},
     "output_type": "execute_result"
    }
   ],
   "source": [
    "workflow.add_conditional_edges(\n",
    "    \"detect_intent\",\n",
    "    route_based_on_intent,\n",
    "    {\n",
    "        \"order_status\": \"order_status\",\n",
    "        \"product_recommendation\": \"recommendation\",\n",
    "        \"general_answer\": \"general_answer\",\n",
    "    },\n",
    ")"
   ]
  },
  {
   "cell_type": "code",
   "execution_count": 24,
   "metadata": {},
   "outputs": [],
   "source": [
    "# Connect end nodes to END\n",
    "workflow.add_edge(\"order_status\", END)\n",
    "workflow.add_edge(\"recommendation\", END)\n",
    "workflow.add_edge(\"general_answer\", END)\n",
    "\n",
    "# Compile the graph\n",
    "app = workflow.compile()"
   ]
  },
  {
   "cell_type": "markdown",
   "metadata": {},
   "source": [
    "### Let's look at the graph"
   ]
  },
  {
   "cell_type": "code",
   "execution_count": 25,
   "metadata": {},
   "outputs": [
    {
     "data": {
      "image/png": "[encoded data removed]",
      "text/plain": [
       "<langgraph.graph.state.CompiledStateGraph object at 0x106f78190>"
      ]
     },
     "execution_count": 25,
     "metadata": {},
     "output_type": "execute_result"
    }
   ],
   "source": [
    "app"
   ]
  },
  {
   "cell_type": "code",
   "execution_count": 26,
   "metadata": {},
   "outputs": [],
   "source": [
    "# Function to run the graph\n",
    "def run_graph(question: str) -> dict:\n",
    "    result = app.invoke(\n",
    "        {\n",
    "            \"question\": question,\n",
    "            \"intent\": \"\",\n",
    "            \"answer\": \"\",\n",
    "        }\n",
    "    )\n",
    "    return result"
   ]
  },
  {
   "cell_type": "markdown",
   "metadata": {},
   "source": [
    "### Trying the use cases"
   ]
  },
  {
   "cell_type": "code",
   "execution_count": 27,
   "metadata": {},
   "outputs": [
    {
     "name": "stdout",
     "output_type": "stream",
     "text": [
      "Question: What are some good laptops for programming?\n",
      "Intent: product_recommendation\n",
      "Answer: Please specify what type of product you're looking for\n",
      "=====================================\n",
      "\n",
      "\n",
      "Question: Where is my order?\n",
      "Intent: order_status\n",
      "Answer: Please provide your order ID to check the status.\n",
      "=====================================\n",
      "\n",
      "\n",
      "Question: What is the best phone to buy?\n",
      "Intent: product_recommendation\n",
      "Answer: Please specify what type of product you're looking for\n",
      "=====================================\n",
      "\n",
      "\n",
      "Question: What is the capital of France?\n",
      "Intent: general\n",
      "Answer: The capital of France is Paris.\n",
      "=====================================\n",
      "\n",
      "\n"
     ]
    }
   ],
   "source": [
    "questions = [\n",
    "    \"What are some good laptops for programming?\",\n",
    "    \"Where is my order?\",\n",
    "    \"What is the best phone to buy?\",\n",
    "    \"What is the capital of France?\",\n",
    "]\n",
    "\n",
    "for question in questions:\n",
    "    result = run_graph(question=question)\n",
    "    print(f\"Question: {question}\")\n",
    "    print(f\"Intent: {result['intent']}\")\n",
    "    print(f\"Answer: {result['answer']}\")\n",
    "    print(\"=====================================\")\n",
    "    print(\"\\n\")"
   ]
  }
 ],
 "metadata": {
  "kernelspec": {
   "display_name": ".venv",
   "language": "python",
   "name": "python3"
  },
  "language_info": {
   "codemirror_mode": {
    "name": "ipython",
    "version": 3
   },
   "file_extension": ".py",
   "mimetype": "text/x-python",
   "name": "python",
   "nbconvert_exporter": "python",
   "pygments_lexer": "ipython3",
   "version": "3.11.5"
  }
 },
 "nbformat": 4,
 "nbformat_minor": 2
}
