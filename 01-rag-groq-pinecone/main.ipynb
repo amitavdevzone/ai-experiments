{
 "cells": [
  {
   "cell_type": "markdown",
   "metadata": {},
   "source": [
    "# RAG system with my own URLs\n",
    "\n",
    "- We will use the Groq LLMs\n",
    "- We will also use Pinecone for our Vector DB\n",
    "- And we will also rely on Pinecone for the Embeddings"
   ]
  },
  {
   "cell_type": "code",
   "execution_count": null,
   "metadata": {},
   "outputs": [],
   "source": [
    "! pip install beautifulsoup4 langchain_core langchain_community langchain_groq load-dotenv pinecone"
   ]
  },
  {
   "cell_type": "markdown",
   "metadata": {},
   "source": [
    "## Importing the packages"
   ]
  },
  {
   "cell_type": "code",
   "execution_count": null,
   "metadata": {},
   "outputs": [],
   "source": [
    "from bs4 import BeautifulSoup\n",
    "from langchain_core.prompts import ChatPromptTemplate\n",
    "from langchain_community.document_loaders import WebBaseLoader\n",
    "from langchain_groq import ChatGroq\n",
    "from load_dotenv import load_dotenv\n",
    "from pinecone import Pinecone, ServerlessSpec\n",
    "import re, os\n",
    "\n",
    "load_dotenv()"
   ]
  },
  {
   "cell_type": "markdown",
   "metadata": {},
   "source": [
    "## Utils function"
   ]
  },
  {
   "cell_type": "code",
   "execution_count": 4,
   "metadata": {},
   "outputs": [],
   "source": [
    "def clean_html_content(html_content: str):\n",
    "    \"\"\"\n",
    "    This function takes an HTML content as input and returns a clean text.\n",
    "    It removes script, nav, and footer tags from the HTML content.\n",
    "    \"\"\"\n",
    "    soup = BeautifulSoup(html_content, \"html.parser\")\n",
    "\n",
    "    # Remove script, nav, and footer tags\n",
    "    for tag in soup([\"script\", \"nav\", \"footer\"]):\n",
    "        tag.decompose()  # Completely removes the tag from the DOM\n",
    "\n",
    "    return soup.get_text(separator=\"\\n\")  # Extracts clean text"
   ]
  },
  {
   "cell_type": "code",
   "execution_count": 6,
   "metadata": {},
   "outputs": [],
   "source": [
    "def clean_scraped_text(text: str) -> str:\n",
    "    \"\"\"\n",
    "    Cleans up the text scraped from websites, removing unnecessary newlines, spaces, and special characters.\n",
    "\n",
    "    Args:\n",
    "        text (str): Raw text scraped from a website.\n",
    "\n",
    "    Returns:\n",
    "        str: Cleaned text.\n",
    "    \"\"\"\n",
    "    # Remove carriage returns\n",
    "    text = re.sub(r\"\\r+\", \"\", text)\n",
    "\n",
    "    # Replace multiple newlines with a single newline\n",
    "    text = re.sub(r\"\\n+\", \"\\n\", text)\n",
    "\n",
    "    # Remove multiple spaces and tabs\n",
    "    text = re.sub(r\"[ \\t]+\", \" \", text)\n",
    "\n",
    "    # Remove lines that are empty or contain only whitespace\n",
    "    text = re.sub(r\"\\n\\s*\\n\", \"\\n\", text)\n",
    "\n",
    "    # Remove leading/trailing whitespace from each line\n",
    "    text = \"\\n\".join(line.strip() for line in text.splitlines())\n",
    "\n",
    "    # Remove leading/trailing whitespace from the entire text\n",
    "    text = text.strip()\n",
    "\n",
    "    # Remove unwanted characters (non-ASCII, control characters)\n",
    "    text = re.sub(r\"[^\\x00-\\x7F]+\", \" \", text)\n",
    "\n",
    "    # Remove HTML entities like  , &amp;, etc.\n",
    "    text = re.sub(r\"&\\w+;\", \" \", text)\n",
    "\n",
    "    # Replace multiple punctuation marks with a single one\n",
    "    text = re.sub(r\"[\\.\\,\\!\\?\\;\\:]{2,}\", \".\", text)\n",
    "\n",
    "    # Ensure consistent spacing after punctuation\n",
    "    text = re.sub(r\"([.!?])([^\\s])\", r\"\\1 \\2\", text)\n",
    "\n",
    "    return text"
   ]
  },
  {
   "cell_type": "markdown",
   "metadata": {},
   "source": [
    "## This is where we scrape the URL"
   ]
  },
  {
   "cell_type": "code",
   "execution_count": null,
   "metadata": {},
   "outputs": [],
   "source": [
    "url = \"https://www.amitavroy.com/articles/2024-07-17-Using-separate-SSH-keys-and-using-them-inside-your-CICD-pipeline-for-security\"\n",
    "loader = WebBaseLoader(url)\n",
    "documents = loader.load()"
   ]
  },
  {
   "cell_type": "code",
   "execution_count": 40,
   "metadata": {},
   "outputs": [],
   "source": [
    "cleaned_texts = [clean_html_content(doc.page_content) for doc in documents]\n",
    "cleaned_texts = clean_scraped_text(\" \".join(cleaned_texts))"
   ]
  },
  {
   "cell_type": "markdown",
   "metadata": {},
   "source": [
    "## Summarising the content with our LLM\n",
    "\n",
    "To keep very useful information in our vector database, we are summarising the content first and then we will send it to Pinecone "
   ]
  },
  {
   "cell_type": "code",
   "execution_count": 41,
   "metadata": {},
   "outputs": [],
   "source": [
    "groq_api_key = os.getenv(\"GROQ_API_KEY\")\n",
    "model = ChatGroq(api_key=groq_api_key, model=\"llama-3.2-3b-preview\")"
   ]
  },
  {
   "cell_type": "code",
   "execution_count": 42,
   "metadata": {},
   "outputs": [],
   "source": [
    "prompt_template = ChatPromptTemplate.from_messages(\n",
    "    [\n",
    "        (\n",
    "            \"system\",\n",
    "            \"\"\"\n",
    "     You are a technical person who will read content and try to summarise it.\n",
    "     You need to capture all the important information from the content so that you can answer questions about it later.\n",
    "     You also need to make sure that the summary is concise and easy to understand.\n",
    "     This content will be later used to embed and store inside a vector database for retrival later.\n",
    "     Try to also add a section where you are mentining the key entities as comma separated tags of the content for example:\n",
    "     Topics: PHP, Laravel, Queued jobs \n",
    "     \"\"\",\n",
    "        ),\n",
    "        (\n",
    "            \"user\",\n",
    "            \"Summarise the following content \\n: {context}\",\n",
    "        ),\n",
    "    ]\n",
    ")"
   ]
  },
  {
   "cell_type": "code",
   "execution_count": 43,
   "metadata": {},
   "outputs": [],
   "source": [
    "formatted_prompt = prompt_template.invoke({\"context\": cleaned_texts})"
   ]
  },
  {
   "cell_type": "code",
   "execution_count": 44,
   "metadata": {},
   "outputs": [],
   "source": [
    "summary = model.invoke(formatted_prompt)"
   ]
  },
  {
   "cell_type": "code",
   "execution_count": 45,
   "metadata": {},
   "outputs": [
    {
     "data": {
      "text/plain": [
       "{'token_usage': {'completion_tokens': 259,\n",
       "  'prompt_tokens': 1783,\n",
       "  'total_tokens': 2042,\n",
       "  'completion_time': 0.161299801,\n",
       "  'prompt_time': 0.287568786,\n",
       "  'queue_time': 0.02549656699999997,\n",
       "  'total_time': 0.448868587},\n",
       " 'model_name': 'llama-3.2-3b-preview',\n",
       " 'system_fingerprint': 'fp_a926bfdce1',\n",
       " 'finish_reason': 'stop',\n",
       " 'logprobs': None}"
      ]
     },
     "execution_count": 45,
     "metadata": {},
     "output_type": "execute_result"
    }
   ],
   "source": [
    "summary.response_metadata"
   ]
  },
  {
   "cell_type": "code",
   "execution_count": 46,
   "metadata": {},
   "outputs": [
    {
     "data": {
      "text/plain": [
       "'**Summary:**\\n\\nThe article discusses the use of SSH keys for security in CI/CD pipelines. The author shares their experience of implementing SSH keys in a GitLab CI/CD pipeline for a Laravel project. They explain the benefits of using SSH keys, including:\\n\\n* Stronger security compared to passwords\\n* Elimination of password transmission over the network\\n* Reduced attack surface\\n* Passwordless login\\n\\nThe author provides a step-by-step guide on how to:\\n\\n1. Create an SSH key\\n2. Authorize the key on an EC2 instance\\n3. Connect to the server using SSH\\n4. Configure GitLab to use the SSH key\\n\\n**Key Entities:**\\n\\nTopics: SSH keys, Security, CI/CD, GitLab, Laravel, EC2, Docker\\n\\nTechnologies: SSH, GitLab CI/CD, Docker, Laravel, EC2\\n\\n**Code:**\\n\\nThe article provides a code example of creating an SSH key and authorizing it on an EC2 instance. The code is not included in the summary, but it can be found in the original article.\\n\\n**Database Embedding:**\\n\\nThe summary can be embedded in a vector database for retrieval later. The key entities and technologies mentioned in the summary can be used as tags to retrieve related content.'"
      ]
     },
     "execution_count": 46,
     "metadata": {},
     "output_type": "execute_result"
    }
   ],
   "source": [
    "summary.content"
   ]
  },
  {
   "cell_type": "markdown",
   "metadata": {},
   "source": [
    "## Saving the information to Pinecone\n",
    "\n",
    "This is where we already have the summarised version of the article with us.\n",
    "Now, we will save that information into our vector database using the Pinecone embedding model"
   ]
  },
  {
   "cell_type": "code",
   "execution_count": 27,
   "metadata": {},
   "outputs": [],
   "source": [
    "def get_pinecone_index(index_name: str):\n",
    "    pinecone_api_key = os.getenv(\"PINECONE_API_KEY\")\n",
    "    pc = Pinecone(api_key=pinecone_api_key)\n",
    "    if index_name not in pc.list_indexes().names():\n",
    "        pc.create_index(\n",
    "            name=index_name,\n",
    "            dimension=1024,\n",
    "            metric=\"cosine\",\n",
    "            spec=ServerlessSpec(cloud=\"aws\", region=\"us-east-1\"),\n",
    "        )\n",
    "    return pc.Index(index_name)"
   ]
  },
  {
   "cell_type": "code",
   "execution_count": 28,
   "metadata": {},
   "outputs": [],
   "source": [
    "def store_data_to_pinecone(data):\n",
    "    pinecone_api_key = os.getenv(\"PINECONE_API_KEY\")\n",
    "    pc = Pinecone(api_key=pinecone_api_key)\n",
    "    embedding_model = \"multilingual-e5-large\"\n",
    "    pcone_index = get_pinecone_index(\"ragtutorial\")\n",
    "\n",
    "    embeddings = pc.inference.embed(\n",
    "        model=embedding_model,\n",
    "        inputs=[d[\"text\"] for d in data],\n",
    "        parameters={\"input_type\": \"passage\", \"truncate\": \"END\"},\n",
    "    )\n",
    "\n",
    "    records = []\n",
    "    for d, e in zip(data, embeddings):\n",
    "        records.append(\n",
    "            {\"id\": d[\"id\"], \"values\": e[\"values\"], \"metadata\": {\"text\": d[\"text\"]}}\n",
    "        )\n",
    "\n",
    "    return pcone_index.upsert(vectors=records, namespace=\"example-namespace\")"
   ]
  },
  {
   "cell_type": "code",
   "execution_count": 47,
   "metadata": {},
   "outputs": [],
   "source": [
    "data = [\n",
    "    {\"id\": \"2\", \"text\": cleaned_texts, \"category\": \"ragtutorial\"},\n",
    "]"
   ]
  },
  {
   "cell_type": "code",
   "execution_count": 49,
   "metadata": {},
   "outputs": [
    {
     "data": {
      "text/plain": [
       "{'upserted_count': 1}"
      ]
     },
     "execution_count": 49,
     "metadata": {},
     "output_type": "execute_result"
    }
   ],
   "source": [
    "store_data_to_pinecone(data)"
   ]
  },
  {
   "cell_type": "markdown",
   "metadata": {},
   "source": [
    "## Doing search on my data"
   ]
  },
  {
   "cell_type": "code",
   "execution_count": 50,
   "metadata": {},
   "outputs": [],
   "source": [
    "pcone_index = get_pinecone_index(\"ragtutorial\")"
   ]
  },
  {
   "cell_type": "code",
   "execution_count": 51,
   "metadata": {},
   "outputs": [],
   "source": [
    "pinecone_api_key = os.getenv(\"PINECONE_API_KEY\")\n",
    "pc = Pinecone(api_key=pinecone_api_key)\n",
    "query = \"why use ssh keys\"\n",
    "\n",
    "search_result = pc.inference.embed(\n",
    "    model=\"multilingual-e5-large\", inputs=[query], parameters={\"input_type\": \"query\"}\n",
    ")"
   ]
  },
  {
   "cell_type": "code",
   "execution_count": 52,
   "metadata": {},
   "outputs": [],
   "source": [
    "results = pcone_index.query(\n",
    "    namespace=\"example-namespace\",\n",
    "    vector=search_result[0].values,\n",
    "    top_k=1,\n",
    "    include_metadata=True,\n",
    ")"
   ]
  },
  {
   "cell_type": "code",
   "execution_count": 53,
   "metadata": {},
   "outputs": [
    {
     "data": {
      "text/plain": [
       "{'matches': [{'id': '2',\n",
       "              'metadata': {'text': 'Using separate ssh keys and using them '\n",
       "                                   'inside your cicd pipeline for security - '\n",
       "                                   'AMITAV ROY BLOGUsing separate ssh keys and '\n",
       "                                   'using them inside your cicd pipeline for '\n",
       "                                   'security - AMITAV ROY BLOGAMITAV ROY '\n",
       "                                   'BLOGHOMEPOSTSABOUTUsing separate ssh keys '\n",
       "                                   'and using them inside your cicd pipeline '\n",
       "                                   'for securityIn this blog post, I am going '\n",
       "                                   'to share my experience on what I learned '\n",
       "                                   'about SSH keys and some of the security '\n",
       "                                   'benefits that we get once we implement '\n",
       "                                   'them. So, if you are interested in the '\n",
       "                                   'details then come along for a ride. 18 '\n",
       "                                   'July, 2024DEVOPSDEVLIFEAWSIntroduction\\n'\n",
       "                                   'When I first dove into the world of Linux '\n",
       "                                   'servers and EC2 instances on AWS, I was '\n",
       "                                   'absolutely thrilled by the concept of SSH '\n",
       "                                   'keys. Seriously, they are like magic keys '\n",
       "                                   'to a secure kingdom! Unlike passwords, SSH '\n",
       "                                   'keys are nearly impossible to crack using '\n",
       "                                   'brute force, and when you throw in IP '\n",
       "                                   'whitelisting through AWS security groups, '\n",
       "                                   'you ve got a setup that feels rock solid.\\n'\n",
       "                                   'But then came the next adventure: CI/CD '\n",
       "                                   'pipelines. I found myself asking,  How can '\n",
       "                                   'I make sure the connection between my '\n",
       "                                   'runner and the EC2 instance stays super '\n",
       "                                   'safe?  As I explored this topic, a '\n",
       "                                   'lightbulb moment hit me I already knew the '\n",
       "                                   'answer but just hadn t connected the '\n",
       "                                   'dots!\\n'\n",
       "                                   'In this blog post, I am going to share my '\n",
       "                                   'experience on what I learned about SSH '\n",
       "                                   'keys and some of the security benefits '\n",
       "                                   'that we get once we implement them. So, if '\n",
       "                                   'you are interested in the details then '\n",
       "                                   'come along for a ride.\\n'\n",
       "                                   'TLDR;\\n'\n",
       "                                   'If you already know about this topic and '\n",
       "                                   'just here for the code, then don t worry. '\n",
       "                                   'You can directly jump to the code and '\n",
       "                                   'setup to get what you are looking for.\\n'\n",
       "                                   'What is an SSH key?\\n'\n",
       "                                   'Imagine an SSH key as a special key that '\n",
       "                                   'can unlock a secure door. In the world of '\n",
       "                                   'servers, you need this key to gain entry. '\n",
       "                                   'That s the layman s explanation. If you '\n",
       "                                   'want to get into the technical details, '\n",
       "                                   'check out this article. https://winscp. '\n",
       "                                   'net/eng/docs/ssh_keys\\n'\n",
       "                                   'Why the SSH key?\\n'\n",
       "                                   'So, to connect to the server one way is a '\n",
       "                                   'password. But, there is always a '\n",
       "                                   'possibility of guessing the password or '\n",
       "                                   'even the possibility of using brute force '\n",
       "                                   'methods to get the password. However, the '\n",
       "                                   'SSH key is a much stronger security option '\n",
       "                                   'compared to the password plus there are '\n",
       "                                   'some other benefits like:\\n'\n",
       "                                   'An SSH key is a cryptographic key pair '\n",
       "                                   'consisting of a public key and a private '\n",
       "                                   'key. This complexity makes it much harder '\n",
       "                                   'for attackers to crack compared to a '\n",
       "                                   'password.\\n'\n",
       "                                   'When using SSH keys, no password is '\n",
       "                                   'transmitted over the network, eliminating '\n",
       "                                   'the risk of interception during '\n",
       "                                   'transmission.\\n'\n",
       "                                   'By disabling password authentication on '\n",
       "                                   'the server and requiring SSH key '\n",
       "                                   'authentication, you reduce the attack '\n",
       "                                   'surface and make it much more difficult '\n",
       "                                   'for unauthorized users to gain access.\\n'\n",
       "                                   'Once configured, SSH keys allow for '\n",
       "                                   'passwordless login, making it easier and '\n",
       "                                   'faster for users to access the server '\n",
       "                                   'without remembering and typing complex '\n",
       "                                   'passwords each time.\\n'\n",
       "                                   'SSH keys can be generated and managed on a '\n",
       "                                   'per-user basis. This allows administrators '\n",
       "                                   'to assign unique keys to each user, and '\n",
       "                                   'easily revoke or change access by removing '\n",
       "                                   'or updating the corresponding key.\\n'\n",
       "                                   'So, as you can see there are several '\n",
       "                                   'advantages due to which using the SSH key '\n",
       "                                   'is an obvious choice. And so, for my '\n",
       "                                   'Gitlab CI/CD pipeline, I decided to use a '\n",
       "                                   'separate SSH key which is allowed to '\n",
       "                                   'access the server.\\n'\n",
       "                                   'The HOW TO\\n'\n",
       "                                   'To configure an SSH key for the Gitlab '\n",
       "                                   'pipeline, here are the steps:\\n'\n",
       "                                   'Step 1 - Create the SSH key\\n'\n",
       "                                   'Generate an SSH key that you ll use to '\n",
       "                                   'connect to the server. Open your terminal '\n",
       "                                   'and run the following command:\\n'\n",
       "                                   'ssh-keygen -t ed25519 -C '\n",
       "                                   '\"your_email@example. com\"\\n'\n",
       "                                   'Follow the prompts, and it will create a '\n",
       "                                   'key in ~/. ssh/id_ed25519 or a location '\n",
       "                                   'you specify. You ll end up with two files: '\n",
       "                                   'a public key and a private key. Keep the '\n",
       "                                   'private key safe and never share it with '\n",
       "                                   'anyone. We ll use the public key to '\n",
       "                                   'authorize access to the server.\\n'\n",
       "                                   'Step 2 - Create a user on your EC2 '\n",
       "                                   'instance (opt)\\n'\n",
       "                                   'You might want to create a new user and '\n",
       "                                   'allow that user to SSH using the key you '\n",
       "                                   'just generated. This gives you super '\n",
       "                                   'fine-grained control over what actions '\n",
       "                                   'this user can perform on the server. But '\n",
       "                                   'hey, if you re feeling adventurous or just '\n",
       "                                   'want to keep it simple, you can totally '\n",
       "                                   'skip this part (like I did)!\\n'\n",
       "                                   'Step 3 - Authorize the key that we '\n",
       "                                   'generated\\n'\n",
       "                                   'So, we ve got our shiny new set of keys, '\n",
       "                                   'but now we need to let the EC2 instance '\n",
       "                                   'know that this key is legit for accessing '\n",
       "                                   'the server. This is where the fun part '\n",
       "                                   'begins! We hop into the EC2 instance, '\n",
       "                                   'navigate to ~/. ssh/authorized_keys of the '\n",
       "                                   'user that our GitLab CI/CD runner will '\n",
       "                                   'use, and paste the public key content into '\n",
       "                                   'this file. This little configuration step '\n",
       "                                   'tells the server,  Hey, when someone shows '\n",
       "                                   'up with the matching private key, they re '\n",
       "                                   'good to go!  It s like setting up a secret '\n",
       "                                   'handshake to get exclusive access!\\n'\n",
       "                                   'Step 4 - Connect to the server\\n'\n",
       "                                   'With these steps in place, you re ready to '\n",
       "                                   'test the configuration! Head to the folder '\n",
       "                                   'where the id_ed25519 file was created, and '\n",
       "                                   'then use the SSH command to try connecting '\n",
       "                                   'to the server. Just run this command:\\n'\n",
       "                                   'ssh -i\\n'\n",
       "                                   'username@server-ip\\n'\n",
       "                                   'And this should be enough for you to '\n",
       "                                   'connect.\\n'\n",
       "                                   'Step 5 - Gitlab config\\n'\n",
       "                                   'Alright, let s dive into the last step '\n",
       "                                   'this is where the magic happens! To let '\n",
       "                                   'GitLab know how to connect to your server, '\n",
       "                                   'head over to your GitLab project. Ready? '\n",
       "                                   'Click on Settings > CI/CD > Variables.\\n'\n",
       "                                   'Once you re in that section, it s time to '\n",
       "                                   'add a shiny new variable! Make sure to set '\n",
       "                                   'it as type  file  and then drumroll, '\n",
       "                                   'please paste in the content of your '\n",
       "                                   'private key! This little nugget is what '\n",
       "                                   'allows GitLab to link up with your server '\n",
       "                                   'during the deployment stage. Trust me, it '\n",
       "                                   's like giving GitLab the VIP pass to your '\n",
       "                                   'server party! Let s get this show on the '\n",
       "                                   'road!\\n'\n",
       "                                   'If you are a visual learner, then you can '\n",
       "                                   'refer to my video where I show you how to '\n",
       "                                   'set up a complete Gitlab CI/CD pipeline '\n",
       "                                   'for a Laravel project with a Docker setup '\n",
       "                                   'https://youtu. be/gp3VXoLBWig.\\n'\n",
       "                                   'Conclusion\\n'\n",
       "                                   'And there you have it!   By harnessing the '\n",
       "                                   'power of SSH keys, you re not just '\n",
       "                                   'securing your connection; you re also '\n",
       "                                   'supercharging your workflow in GitLab '\n",
       "                                   'CI/CD. This level of security is crucial '\n",
       "                                   'in CI/CD pipelines, where automated '\n",
       "                                   'deployments happen frequently. With SSH '\n",
       "                                   'keys, you ensure that only authorized '\n",
       "                                   'users can access your servers, minimizing '\n",
       "                                   'the risk of unauthorized changes and '\n",
       "                                   'potential breaches. Plus, you gain the '\n",
       "                                   'freedom of passwordless login talk about a '\n",
       "                                   'win-win! So, whether you re deploying code '\n",
       "                                   'or managing your infrastructure, remember '\n",
       "                                   'that SSH keys are your trusty sidekicks on '\n",
       "                                   'this adventure. Keep exploring, keep '\n",
       "                                   'innovating, and may your server '\n",
       "                                   'connections always be secure!  '\n",
       "                                   'Transforming ideas into impactful '\n",
       "                                   'solutions, one project at a time. For me, '\n",
       "                                   \"software engineering isn't just about \"\n",
       "                                   \"writing code; it's about building tools \"\n",
       "                                   'that make lives better. Share to '\n",
       "                                   'FacebookShare to TwitterShare to '\n",
       "                                   'LinkedinShare to RedditShare with the post '\n",
       "                                   'url and descriptionThe importance of '\n",
       "                                   'Docker as a developerDeploying Laravel as '\n",
       "                                   'a Serverless Solution with BrefTABLE OF '\n",
       "                                   'CONTENTSIntroductionTLDR;What is an SSH '\n",
       "                                   'key? Why the SSH key? The HOW TOStep 1 - '\n",
       "                                   'Create the SSH keyStep 2 - Create a user '\n",
       "                                   'on your EC2 instance (opt)Step 3 - '\n",
       "                                   'Authorize the key that we generatedStep 4 '\n",
       "                                   '- Connect to the serverStep 5 - Gitlab '\n",
       "                                   'configConclusionFriendsFeedCOPYRIGHT   '\n",
       "                                   '2011-2025 AMITAV ROY ALL RIGHTS RESERVED'},\n",
       "              'score': 0.864568412,\n",
       "              'values': []}],\n",
       " 'namespace': 'example-namespace',\n",
       " 'usage': {'read_units': 6}}"
      ]
     },
     "execution_count": 53,
     "metadata": {},
     "output_type": "execute_result"
    }
   ],
   "source": [
    "results"
   ]
  }
 ],
 "metadata": {
  "kernelspec": {
   "display_name": ".venv",
   "language": "python",
   "name": "python3"
  },
  "language_info": {
   "codemirror_mode": {
    "name": "ipython",
    "version": 3
   },
   "file_extension": ".py",
   "mimetype": "text/x-python",
   "name": "python",
   "nbconvert_exporter": "python",
   "pygments_lexer": "ipython3",
   "version": "3.11.5"
  }
 },
 "nbformat": 4,
 "nbformat_minor": 2
}
