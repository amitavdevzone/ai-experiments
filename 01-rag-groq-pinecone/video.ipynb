{
 "cells": [
  {
   "cell_type": "markdown",
   "metadata": {},
   "source": [
    "# Building the RAG system\n",
    "\n",
    "Here we will build a RAG system where we can paste any web URL -> like a blog post. And then our system will read that article, summarise it and then add it to our knowledge base.\n",
    "\n",
    "This way, later on, when we try to refer to something, we will be able to refer to articles that we have read."
   ]
  },
  {
   "cell_type": "code",
   "execution_count": null,
   "metadata": {},
   "outputs": [],
   "source": [
    "! pip install beautifulsoup4 langchain_core langchain_community langchain_groq load-dotenv pinecone"
   ]
  },
  {
   "cell_type": "markdown",
   "metadata": {},
   "source": [
    "## Importing all libraries"
   ]
  },
  {
   "cell_type": "code",
   "execution_count": null,
   "metadata": {},
   "outputs": [],
   "source": [
    "from bs4 import BeautifulSoup\n",
    "from langchain_core.prompts import ChatPromptTemplate\n",
    "from langchain_community.document_loaders import WebBaseLoader\n",
    "from langchain_groq import ChatGroq\n",
    "from load_dotenv import load_dotenv\n",
    "from pinecone import Pinecone, ServerlessSpec\n",
    "import re, os\n",
    "\n",
    "load_dotenv()"
   ]
  },
  {
   "cell_type": "markdown",
   "metadata": {},
   "source": [
    "## Utility function"
   ]
  },
  {
   "cell_type": "code",
   "execution_count": 3,
   "metadata": {},
   "outputs": [],
   "source": [
    "def clean_html_content(html_content: str):\n",
    "    \"\"\"\n",
    "    This function takes an HTML content as input and returns a clean text.\n",
    "    It removes script, nav, and footer tags from the HTML content.\n",
    "    \"\"\"\n",
    "    soup = BeautifulSoup(html_content, \"html.parser\")\n",
    "\n",
    "    # Remove script, nav, and footer tags\n",
    "    for tag in soup([\"script\", \"nav\", \"footer\"]):\n",
    "        tag.decompose()  # Completely removes the tag from the DOM\n",
    "\n",
    "    return soup.get_text(separator=\"\\n\")  # Extracts clean text"
   ]
  },
  {
   "cell_type": "code",
   "execution_count": 4,
   "metadata": {},
   "outputs": [],
   "source": [
    "def clean_scraped_text(text: str) -> str:\n",
    "    \"\"\"\n",
    "    Cleans up the text scraped from websites, removing unnecessary newlines, spaces, and special characters.\n",
    "\n",
    "    Args:\n",
    "        text (str): Raw text scraped from a website.\n",
    "\n",
    "    Returns:\n",
    "        str: Cleaned text.\n",
    "    \"\"\"\n",
    "    # Remove carriage returns\n",
    "    text = re.sub(r\"\\r+\", \"\", text)\n",
    "\n",
    "    # Replace multiple newlines with a single newline\n",
    "    text = re.sub(r\"\\n+\", \"\\n\", text)\n",
    "\n",
    "    # Remove multiple spaces and tabs\n",
    "    text = re.sub(r\"[ \\t]+\", \" \", text)\n",
    "\n",
    "    # Remove lines that are empty or contain only whitespace\n",
    "    text = re.sub(r\"\\n\\s*\\n\", \"\\n\", text)\n",
    "\n",
    "    # Remove leading/trailing whitespace from each line\n",
    "    text = \"\\n\".join(line.strip() for line in text.splitlines())\n",
    "\n",
    "    # Remove leading/trailing whitespace from the entire text\n",
    "    text = text.strip()\n",
    "\n",
    "    # Remove unwanted characters (non-ASCII, control characters)\n",
    "    text = re.sub(r\"[^\\x00-\\x7F]+\", \" \", text)\n",
    "\n",
    "    # Remove HTML entities like  , &amp;, etc.\n",
    "    text = re.sub(r\"&\\w+;\", \" \", text)\n",
    "\n",
    "    # Replace multiple punctuation marks with a single one\n",
    "    text = re.sub(r\"[\\.\\,\\!\\?\\;\\:]{2,}\", \".\", text)\n",
    "\n",
    "    # Ensure consistent spacing after punctuation\n",
    "    text = re.sub(r\"([.!?])([^\\s])\", r\"\\1 \\2\", text)\n",
    "\n",
    "    return text"
   ]
  },
  {
   "cell_type": "markdown",
   "metadata": {},
   "source": [
    "## Getting the content from URL\n",
    "\n",
    "This is where we will scrape the URL for content and then use diffrent techniques to clean the HTML that we got by scraping the web page."
   ]
  },
  {
   "cell_type": "code",
   "execution_count": null,
   "metadata": {},
   "outputs": [],
   "source": [
    "url = (\n",
    "    \"https://www.amitavroy.com/articles/2024-07-25-Importance-of-Docker-as-a-developer\"\n",
    ")\n",
    "loader = WebBaseLoader(url)\n",
    "documents = loader.load()"
   ]
  },
  {
   "cell_type": "markdown",
   "metadata": {},
   "source": [
    "This is where we removed all the HTML tags and stuff.\n",
    "\n",
    "I am also removing content from some unwanted tags so that the content that we are considering is much more relevant.\n",
    "\n",
    "And then I am concatinating the entire content into one block of content so that we can summarise it."
   ]
  },
  {
   "cell_type": "code",
   "execution_count": 25,
   "metadata": {},
   "outputs": [],
   "source": [
    "cleaned_texts = [clean_html_content(doc.page_content) for doc in documents]\n",
    "cleaned_texts = clean_scraped_text(\" \".join(cleaned_texts))"
   ]
  },
  {
   "cell_type": "markdown",
   "metadata": {},
   "source": [
    "## Summarising the content with our LLM\n",
    "\n",
    "To keep very useful information in our vector database, we are summarising the content first and then we will send it to Pinecone "
   ]
  },
  {
   "cell_type": "code",
   "execution_count": 11,
   "metadata": {},
   "outputs": [],
   "source": [
    "groq_api_key = os.getenv(\"GROQ_API_KEY\")\n",
    "model = ChatGroq(api_key=groq_api_key, model=\"llama-3.2-3b-preview\")"
   ]
  },
  {
   "cell_type": "code",
   "execution_count": 26,
   "metadata": {},
   "outputs": [],
   "source": [
    "prompt_template = ChatPromptTemplate.from_messages(\n",
    "    [\n",
    "        (\n",
    "            \"system\",\n",
    "            \"\"\"\n",
    "     You are a technical person who will read content and try to summarise it.\n",
    "     You need to capture all the important information from the content so that you can answer questions about it later.\n",
    "     You also need to make sure that the summary is concise and easy to understand.\n",
    "     This content will be later used to embed and store inside a vector database for retrival later.\n",
    "     Try to also add a section where you are mentining the key entities as comma separated tags of the content for example:\n",
    "     Topics: PHP, Laravel, Queued jobs \n",
    "     \"\"\",\n",
    "        ),\n",
    "        (\n",
    "            \"user\",\n",
    "            \"Summarise the following content \\n: {context}\",\n",
    "        ),\n",
    "    ]\n",
    ")"
   ]
  },
  {
   "cell_type": "code",
   "execution_count": 27,
   "metadata": {},
   "outputs": [],
   "source": [
    "formatted_prompt = prompt_template.invoke({\"context\": cleaned_texts})\n",
    "summary = model.invoke(formatted_prompt)"
   ]
  },
  {
   "cell_type": "code",
   "execution_count": 28,
   "metadata": {},
   "outputs": [
    {
     "data": {
      "text/plain": [
       "{'token_usage': {'completion_tokens': 373,\n",
       "  'prompt_tokens': 1379,\n",
       "  'total_tokens': 1752,\n",
       "  'completion_time': 0.231928694,\n",
       "  'prompt_time': 0.22172015,\n",
       "  'queue_time': 0.021728798999999993,\n",
       "  'total_time': 0.453648844},\n",
       " 'model_name': 'llama-3.2-3b-preview',\n",
       " 'system_fingerprint': 'fp_a926bfdce1',\n",
       " 'finish_reason': 'stop',\n",
       " 'logprobs': None}"
      ]
     },
     "execution_count": 28,
     "metadata": {},
     "output_type": "execute_result"
    }
   ],
   "source": [
    "summary.response_metadata"
   ]
  },
  {
   "cell_type": "code",
   "execution_count": 29,
   "metadata": {},
   "outputs": [
    {
     "data": {
      "text/plain": [
       "'**Summary:**\\n\\nThe importance of Docker as a developer cannot be overstated. This article highlights six key reasons why every developer should get comfortable with Docker:\\n\\n1. **Consistency Across Environments**: Docker provides a consistent environment across all stages of development, reducing stress and headaches caused by different configurations.\\n2. **Portability**: Docker\\'s infrastructure is defined as code, making it easy to replicate setups or roll back to previous configurations.\\n3. **Easy to Experiment**: Docker containers allow developers to spin up a container with any configuration, experiment freely, and remove it when done, with no traces left behind.\\n4. **Easy on Resources**: Docker containers have lower memory requirements, allowing multiple containers to run on a single machine without overloading it.\\n5. **Security**: Docker provides a layer of security by isolating applications and dependencies within containers, minimizing the risk of conflicts and unauthorized access.\\n6. **Seamless Integrations with CI/CD Pipelines**: Docker images play a pivotal role in streamlining CI/CD pipelines, ensuring a consistent build environment and minimizing the \"it works on my machine\" problem.\\n\\n**Key Entities:**\\n\\nDocker, Consistency Across Environments, Portability, Easy to Experiment, Easy on Resources, Security, Seamless Integrations with CI/CD Pipelines.\\n\\n**Vector Database Embedding:**\\n\\n```\\n{\\n  \"title\": \"The importance of Docker as a developer\",\\n  \"summary\": \"Docker has become a key tool for any developer, providing consistency, portability, ease of experimentation, efficiency, security, and seamless integrations with CI/CD pipelines.\",\\n  \"entities\": [\"Docker\", \"Consistency Across Environments\", \"Portability\", \"Easy to Experiment\", \"Easy on Resources\", \"Security\", \"Seamless Integrations with CI/CD Pipelines\"]\\n}\\n```'"
      ]
     },
     "execution_count": 29,
     "metadata": {},
     "output_type": "execute_result"
    }
   ],
   "source": [
    "summary.content"
   ]
  },
  {
   "cell_type": "markdown",
   "metadata": {},
   "source": [
    "## Saving the information to Pinecone\n",
    "\n",
    "This is where we already have the summarised version of the article with us.\n",
    "Now, we will save that information into our vector database using the Pinecone embedding model"
   ]
  },
  {
   "cell_type": "code",
   "execution_count": 19,
   "metadata": {},
   "outputs": [],
   "source": [
    "def get_pinecone_index(index_name: str):\n",
    "    pinecone_api_key = os.getenv(\"PINECONE_API_KEY\")\n",
    "    pc = Pinecone(api_key=pinecone_api_key)\n",
    "    if index_name not in pc.list_indexes().names():\n",
    "        pc.create_index(\n",
    "            name=index_name,\n",
    "            dimension=1024,\n",
    "            metric=\"cosine\",\n",
    "            spec=ServerlessSpec(cloud=\"aws\", region=\"us-east-1\"),\n",
    "        )\n",
    "    return pc.Index(index_name)"
   ]
  },
  {
   "cell_type": "code",
   "execution_count": 20,
   "metadata": {},
   "outputs": [],
   "source": [
    "def store_data_to_pinecone(data):\n",
    "    pinecone_api_key = os.getenv(\"PINECONE_API_KEY\")\n",
    "    pc = Pinecone(api_key=pinecone_api_key)\n",
    "    embedding_model = \"multilingual-e5-large\"\n",
    "    pcone_index = get_pinecone_index(\"ragtutorial\")\n",
    "\n",
    "    embeddings = pc.inference.embed(\n",
    "        model=embedding_model,\n",
    "        inputs=[d[\"text\"] for d in data],\n",
    "        parameters={\"input_type\": \"passage\", \"truncate\": \"END\"},\n",
    "    )\n",
    "\n",
    "    records = []\n",
    "    for d, e in zip(data, embeddings):\n",
    "        records.append(\n",
    "            {\"id\": d[\"id\"], \"values\": e[\"values\"], \"metadata\": {\"text\": d[\"text\"]}}\n",
    "        )\n",
    "\n",
    "    return pcone_index.upsert(vectors=records, namespace=\"example-namespace\")"
   ]
  },
  {
   "cell_type": "code",
   "execution_count": 30,
   "metadata": {},
   "outputs": [],
   "source": [
    "data = [\n",
    "    {\"id\": \"2\", \"text\": cleaned_texts, \"category\": \"ragtutorial\"},\n",
    "]"
   ]
  },
  {
   "cell_type": "code",
   "execution_count": 31,
   "metadata": {},
   "outputs": [
    {
     "data": {
      "text/plain": [
       "{'upserted_count': 1}"
      ]
     },
     "execution_count": 31,
     "metadata": {},
     "output_type": "execute_result"
    }
   ],
   "source": [
    "store_data_to_pinecone(data)"
   ]
  },
  {
   "cell_type": "markdown",
   "metadata": {},
   "source": [
    "## Doing search on my data"
   ]
  },
  {
   "cell_type": "code",
   "execution_count": 32,
   "metadata": {},
   "outputs": [],
   "source": [
    "pcone_index = get_pinecone_index(\"ragtutorial\")"
   ]
  },
  {
   "cell_type": "code",
   "execution_count": 36,
   "metadata": {},
   "outputs": [],
   "source": [
    "pinecone_api_key = os.getenv(\"PINECONE_API_KEY\")\n",
    "pc = Pinecone(api_key=pinecone_api_key)\n",
    "query = \"why I should learn docker\"\n",
    "\n",
    "search_result = pc.inference.embed(\n",
    "    model=\"multilingual-e5-large\", inputs=[query], parameters={\"input_type\": \"query\"}\n",
    ")"
   ]
  },
  {
   "cell_type": "code",
   "execution_count": 37,
   "metadata": {},
   "outputs": [],
   "source": [
    "results = pcone_index.query(\n",
    "    namespace=\"example-namespace\",\n",
    "    vector=search_result[0].values,\n",
    "    top_k=1,\n",
    "    include_metadata=True,\n",
    ")"
   ]
  },
  {
   "cell_type": "code",
   "execution_count": 38,
   "metadata": {},
   "outputs": [
    {
     "data": {
      "text/plain": [
       "{'matches': [{'id': '2',\n",
       "              'metadata': {'text': 'The importance of Docker as a developer - '\n",
       "                                   'AMITAV ROY BLOGThe importance of Docker as '\n",
       "                                   'a developer - AMITAV ROY BLOGAMITAV ROY '\n",
       "                                   'BLOGHOMEPOSTSABOUTThe importance of Docker '\n",
       "                                   'as a developerDocker has become a key tool '\n",
       "                                   'for any developer. It is no more something '\n",
       "                                   'that only the Devops person should know. '\n",
       "                                   'In this article I will talk about the '\n",
       "                                   'reasons why Docker is so important to know '\n",
       "                                   'as a developer. 25 July, '\n",
       "                                   '2024DEVOPSDEVLIFEDOCKERAs a software '\n",
       "                                   'developer, understanding Docker is not '\n",
       "                                   \"just a nice to have; it's essential. I \"\n",
       "                                   'firmly believe in architecting solutions '\n",
       "                                   'using the best open-source tools '\n",
       "                                   'available, and Docker is a key player in '\n",
       "                                   \"that ecosystem. I've used Python-based \"\n",
       "                                   'solutions for CRM systems and Java '\n",
       "                                   'applications for OAuth and SAML '\n",
       "                                   'authentication from multiple providers, '\n",
       "                                   'showcasing the need for cross-technology '\n",
       "                                   'solutions.\\n'\n",
       "                                   'With such diverse requirements, setting up '\n",
       "                                   'consistent environments for development, '\n",
       "                                   'testing, and production becomes crucial. '\n",
       "                                   'Docker excels at providing this '\n",
       "                                   \"consistency. In this article, I'll discuss \"\n",
       "                                   '6 key reasons why every developer should '\n",
       "                                   'get comfortable with Docker.\\n'\n",
       "                                   'Consistency Across Environments\\n'\n",
       "                                   '\"Works on my machine. \" We\\'ve all heard '\n",
       "                                   'this phrase countless times in team '\n",
       "                                   'settings. Our usual response? \"We can\\'t '\n",
       "                                   'ship your machine to the client. \" Jokes '\n",
       "                                   'aside, these issues can drain both time '\n",
       "                                   \"and mental energy. Whether it's a \"\n",
       "                                   'different PHP version or some specific '\n",
       "                                   'configuration, these inconsistencies lead '\n",
       "                                   \"to headaches. Docker's strength lies in \"\n",
       "                                   'providing a consistent environment across '\n",
       "                                   'all stages of development. This '\n",
       "                                   'consistency greatly reduces the stress '\n",
       "                                   'around these problems, ensuring that what '\n",
       "                                   'works on one machine works everywhere.\\n'\n",
       "                                   'Portability\\n'\n",
       "                                   'Have you ever deployed an application to '\n",
       "                                   \"production, only to find out you couldn't \"\n",
       "                                   'recreate the environment from scratch if '\n",
       "                                   'needed? Perhaps the person who set it up '\n",
       "                                   'is no longer with the company, or the '\n",
       "                                   'documentation is outdated.\\n'\n",
       "                                   'With Docker, this problem disappears. Your '\n",
       "                                   'entire infrastructure is defined as code, '\n",
       "                                   'making it easy to replicate setups or roll '\n",
       "                                   'back to previous configurations. This is '\n",
       "                                   'invaluable for server maintenance, '\n",
       "                                   'migrating to different cloud providers, or '\n",
       "                                   'replicating the same solution for new '\n",
       "                                   'clients.\\n'\n",
       "                                   'Easy to experiment\\n'\n",
       "                                   \"I've often hesitated to experiment with \"\n",
       "                                   'new technologies due to the risk of '\n",
       "                                   'messing up my development environment with '\n",
       "                                   'conflicting libraries and software. But '\n",
       "                                   'Docker changes the game. You can spin up a '\n",
       "                                   'Docker container with any configuration, '\n",
       "                                   'experiment freely, and then simply remove '\n",
       "                                   \"the container and its image when you're \"\n",
       "                                   'done no traces left behind. This freedom '\n",
       "                                   'has opened up new opportunities for '\n",
       "                                   'experimenting with different solutions.\\n'\n",
       "                                   'Easy on resources\\n'\n",
       "                                   'Docker containers, unlike traditional '\n",
       "                                   'virtual machines, have significantly lower '\n",
       "                                   'memory requirements, allowing you to run '\n",
       "                                   'multiple containers on a single machine '\n",
       "                                   'without overloading it. This lightweight '\n",
       "                                   'nature of Docker makes it possible to '\n",
       "                                   'simulate a server with minimal memory to '\n",
       "                                   'test how your application behaves under '\n",
       "                                   'stress, a crucial aspect of performance '\n",
       "                                   'testing.\\n'\n",
       "                                   \"In production environments, Docker's \"\n",
       "                                   'efficiency shines even brighter. You can '\n",
       "                                   'easily spin up multiple containers, '\n",
       "                                   \"maximizing your server's resources and \"\n",
       "                                   'distributing your load effectively. '\n",
       "                                   'Utilizing NGINX for load balancing across '\n",
       "                                   'these containers enables seamless '\n",
       "                                   'horizontal scaling, ensuring your '\n",
       "                                   'application can handle increased traffic '\n",
       "                                   'without a hitch. This flexibility and '\n",
       "                                   'scalability are among the many reasons '\n",
       "                                   'Docker is indispensable in modern '\n",
       "                                   'development and deployment workflows.\\n'\n",
       "                                   'Security\\n'\n",
       "                                   'Security with Docker containers is another '\n",
       "                                   'area where Docker truly excels. By '\n",
       "                                   'isolating applications and their '\n",
       "                                   'dependencies within containers, Docker '\n",
       "                                   'provides a layer of security that helps '\n",
       "                                   'prevent potential vulnerabilities from '\n",
       "                                   'spreading across the system. Each '\n",
       "                                   'container runs in its own isolated '\n",
       "                                   'environment, minimizing the risk of '\n",
       "                                   'conflicts and unauthorized access. '\n",
       "                                   'Furthermore, Docker allows you to set '\n",
       "                                   'resource limits, manage permissions, and '\n",
       "                                   'employ secure base images, which together '\n",
       "                                   'enhance the security posture of your '\n",
       "                                   \"applications. Additionally, Docker's \"\n",
       "                                   'support for scanning images for known '\n",
       "                                   'vulnerabilities ensures that any potential '\n",
       "                                   'security issues are identified and '\n",
       "                                   'addressed promptly, making Docker a '\n",
       "                                   'reliable choice for maintaining a secure '\n",
       "                                   'development and production environment.\\n'\n",
       "                                   'Seamless integrations with CI/CD '\n",
       "                                   'Pipelines\\n'\n",
       "                                   'Docker images play a pivotal role in '\n",
       "                                   'streamlining CI/CD pipelines. By '\n",
       "                                   'encapsulating all dependencies and '\n",
       "                                   'configurations within an image, Docker '\n",
       "                                   'ensures that the build environment remains '\n",
       "                                   'consistent across various stages of the '\n",
       "                                   'pipeline, from development through to '\n",
       "                                   'production. This consistency minimizes the '\n",
       "                                   '\"it works on my machine\" problem by '\n",
       "                                   'ensuring that the same image used for '\n",
       "                                   'testing is also used in production. '\n",
       "                                   \"Additionally, Docker's support for \"\n",
       "                                   'automated image builds and version control '\n",
       "                                   'integrates seamlessly with CI/CD tools '\n",
       "                                   'like Jenkins, GitLab CI, and GitHub '\n",
       "                                   'Actions. This enables teams to automate '\n",
       "                                   'testing, deployment, and scaling processes '\n",
       "                                   'efficiently. The use of Docker images in '\n",
       "                                   'CI/CD pipelines also accelerates feedback '\n",
       "                                   'loops, allowing developers to quickly '\n",
       "                                   'identify and address issues, thus speeding '\n",
       "                                   'up the overall development lifecycle and '\n",
       "                                   'improving software delivery agility.\\n'\n",
       "                                   'Conclusion\\n'\n",
       "                                   'In conclusion, Docker has profoundly '\n",
       "                                   'transformed the development ecosystem, '\n",
       "                                   'offering unprecedented levels of '\n",
       "                                   'efficiency, consistency, and flexibility. '\n",
       "                                   'Its ability to standardize environments, '\n",
       "                                   'streamline CI/CD pipelines, and optimize '\n",
       "                                   'resource usage has made it an '\n",
       "                                   'indispensable tool for modern software '\n",
       "                                   \"development. Docker's influence extends \"\n",
       "                                   'beyond individual projects, driving '\n",
       "                                   'industry-wide shifts towards more agile '\n",
       "                                   'and scalable solutions. For developers, '\n",
       "                                   'mastering Docker is not just advantageous '\n",
       "                                   'but essential. As the tech landscape '\n",
       "                                   'continues to evolve, being proficient in '\n",
       "                                   'Docker will empower you to tackle complex '\n",
       "                                   'challenges, collaborate effectively across '\n",
       "                                   'teams, and remain competitive in an '\n",
       "                                   'ever-changing field. Embracing Docker '\n",
       "                                   'today will set you up for success in the '\n",
       "                                   'future, making it a crucial skill in the '\n",
       "                                   'toolkit of any forward-thinking developer. '\n",
       "                                   'Transforming ideas into impactful '\n",
       "                                   'solutions, one project at a time. For me, '\n",
       "                                   \"software engineering isn't just about \"\n",
       "                                   \"writing code; it's about building tools \"\n",
       "                                   'that make lives better. Share to '\n",
       "                                   'FacebookShare to TwitterShare to '\n",
       "                                   'LinkedinShare to RedditShare with the post '\n",
       "                                   'url and descriptionScramble - an easy way '\n",
       "                                   'to generate API docs in LaravelUsing '\n",
       "                                   'separate ssh keys and using them inside '\n",
       "                                   'your cicd pipeline for securityTABLE OF '\n",
       "                                   'CONTENTSConsistency Across '\n",
       "                                   'EnvironmentsPortabilityEasy to '\n",
       "                                   'experimentSecuritySeamless integrations '\n",
       "                                   'with CI/CD '\n",
       "                                   'PipelinesConclusionFriendsFeedCOPYRIGHT   '\n",
       "                                   '2011-2025 AMITAV ROY ALL RIGHTS RESERVED'},\n",
       "              'score': 0.870625496,\n",
       "              'values': []}],\n",
       " 'namespace': 'example-namespace',\n",
       " 'usage': {'read_units': 6}}"
      ]
     },
     "execution_count": 38,
     "metadata": {},
     "output_type": "execute_result"
    }
   ],
   "source": [
    "results"
   ]
  }
 ],
 "metadata": {
  "kernelspec": {
   "display_name": ".venv",
   "language": "python",
   "name": "python3"
  },
  "language_info": {
   "codemirror_mode": {
    "name": "ipython",
    "version": 3
   },
   "file_extension": ".py",
   "mimetype": "text/x-python",
   "name": "python",
   "nbconvert_exporter": "python",
   "pygments_lexer": "ipython3",
   "version": "3.11.5"
  }
 },
 "nbformat": 4,
 "nbformat_minor": 2
}
