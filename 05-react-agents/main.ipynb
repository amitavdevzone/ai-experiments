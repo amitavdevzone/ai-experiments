{
 "cells": [
  {
   "cell_type": "markdown",
   "id": "7d603d81",
   "metadata": {},
   "source": [
    "# Understanding the ReAct pattern\n",
    "\n",
    "Langgraph's ReAct pattern based React agents are a nice patter which we can use to quickly start building our AI agent.\n",
    "\n",
    "It's simple API allows us to create AI agents with tools and have supervisors."
   ]
  },
  {
   "cell_type": "code",
   "execution_count": null,
   "id": "21012d2d",
   "metadata": {},
   "outputs": [],
   "source": [
    "! pip install langgraph-supervisor langchain-openai python-dotenv"
   ]
  },
  {
   "cell_type": "code",
   "execution_count": null,
   "id": "68145b48",
   "metadata": {},
   "outputs": [],
   "source": [
    "from langchain_openai import ChatOpenAI\n",
    "from langgraph_supervisor import create_supervisor\n",
    "from langgraph.prebuilt import create_react_agent\n",
    "from dotenv import load_dotenv\n",
    "import random\n",
    "import os\n",
    "\n",
    "load_dotenv()\n",
    "\n",
    "OPENAI_KEY = os.getenv(\"OPENAI_API_KEY\")\n",
    "OPENAI_MODEL = os.getenv(\"OPENAI_MODEL\")"
   ]
  },
  {
   "cell_type": "markdown",
   "id": "db9b3932",
   "metadata": {},
   "source": [
    "## Getting an instance of our Model"
   ]
  },
  {
   "cell_type": "code",
   "execution_count": 58,
   "id": "61aebd1c",
   "metadata": {},
   "outputs": [],
   "source": [
    "model = ChatOpenAI(\n",
    "    model=OPENAI_MODEL,\n",
    "    api_key=OPENAI_KEY,\n",
    ")"
   ]
  },
  {
   "cell_type": "markdown",
   "id": "9a8a051f",
   "metadata": {},
   "source": [
    "## Defining our tools\n",
    "\n",
    "Defining our tools here for the food recommendation agent.\n",
    "\n",
    "Right now, we have kept things simple and just sending a random name \n",
    "from a list."
   ]
  },
  {
   "cell_type": "markdown",
   "id": "8dc73303",
   "metadata": {},
   "source": [
    "### Food recommendation tools"
   ]
  },
  {
   "cell_type": "code",
   "execution_count": 99,
   "id": "f9f6905e",
   "metadata": {},
   "outputs": [],
   "source": [
    "def get_random_fruit() -> str:\n",
    "    \"\"\"Return a random fruit name.\"\"\"\n",
    "    words = [\"Apple\", \"Banana\", \"Cherry\", \"Date\", \"Mango\", \"Grapes\", \"Orange\"]\n",
    "    recommend = random.choice(words)\n",
    "    return recommend\n",
    "\n",
    "\n",
    "def get_random_vegetable() -> str:\n",
    "    \"\"\"Return a random vegetable name.\"\"\"\n",
    "    words = [\"Carrot\", \"Broccoli\", \"Spinach\", \"Potato\", \"Tomato\", \"Cucumber\"]\n",
    "    recommend = random.choice(words)\n",
    "    return recommend"
   ]
  },
  {
   "cell_type": "code",
   "execution_count": 100,
   "id": "c8e55eae",
   "metadata": {},
   "outputs": [],
   "source": [
    "food_expert = create_react_agent(\n",
    "    model=model,\n",
    "    tools=[get_random_fruit, get_random_vegetable],\n",
    "    name=\"food_expert\",\n",
    "    prompt=\"You are a food expert. Recommend a fruit and a vegetable for a healthy snack. Use one tool at a time.\",\n",
    ")"
   ]
  },
  {
   "cell_type": "code",
   "execution_count": 101,
   "id": "c7436606",
   "metadata": {},
   "outputs": [],
   "source": [
    "workflow = create_supervisor(\n",
    "    [food_expert],\n",
    "    model=model,\n",
    "    prompt=\"You are a team supervisor managing a food recommendation expert. Use food_expert to get a fruit and a vegetable recommendation. After you have called both tools and presented your recommendation, STOP and do not call any more tools.\",\n",
    "    output_mode=\"full_history\",\n",
    ")"
   ]
  },
  {
   "cell_type": "code",
   "execution_count": 102,
   "id": "fd2d6b5c",
   "metadata": {},
   "outputs": [],
   "source": [
    "app = workflow.compile()"
   ]
  },
  {
   "cell_type": "code",
   "execution_count": 103,
   "id": "c4becea3",
   "metadata": {},
   "outputs": [
    {
     "data": {
      "image/png": "[encoded data removed]",
      "text/plain": [
       "<IPython.core.display.Image object>"
      ]
     },
     "metadata": {},
     "output_type": "display_data"
    }
   ],
   "source": [
    "from IPython.display import Image, display\n",
    "\n",
    "try:\n",
    "    display(Image(app.get_graph().draw_mermaid_png()))\n",
    "except Exception:\n",
    "    pass"
   ]
  },
  {
   "cell_type": "code",
   "execution_count": 106,
   "id": "c193209e",
   "metadata": {},
   "outputs": [
    {
     "name": "stderr",
     "output_type": "stream",
     "text": [
      "Task supervisor with path ('__pregel_pull', 'supervisor') wrote to unknown channel is_last_step, ignoring it.\n",
      "Task supervisor with path ('__pregel_pull', 'supervisor') wrote to unknown channel remaining_steps, ignoring it.\n"
     ]
    }
   ],
   "source": [
    "result = app.invoke(\n",
    "    {\n",
    "        \"messages\": [\n",
    "            {\n",
    "                \"role\": \"user\",\n",
    "                \"content\": \"I want a healthy snack recommendation. Can you suggest something that is sweet?\",\n",
    "            }\n",
    "        ]\n",
    "    },\n",
    "    config={\"recursion_limit\": 5},\n",
    ")"
   ]
  },
  {
   "cell_type": "markdown",
   "id": "8a894460",
   "metadata": {},
   "source": [
    "## Showing the result\n",
    "\n",
    "Now that we have got the results, we will loop through the entire message history\n",
    "\n",
    "and print each event to show how the entire graph was executed."
   ]
  },
  {
   "cell_type": "code",
   "execution_count": 105,
   "id": "cd03e1cf",
   "metadata": {},
   "outputs": [
    {
     "name": "stdout",
     "output_type": "stream",
     "text": [
      "Event None -> I want a healthy snack recommendation. Can you suggest something? \n",
      "\n",
      "Event supervisor -> None \n",
      "\n",
      "Event transfer_to_food_expert -> Successfully transferred to food_expert \n",
      "\n",
      "Event food_expert -> None \n",
      "\n",
      "Event get_random_fruit -> Banana \n",
      "\n",
      "Event get_random_vegetable -> Spinach \n",
      "\n",
      "Event food_expert -> A healthy snack idea would be a banana and spinach. You can enjoy a banana on its own or add some spinach to a smoothie for an extra boost of nutrients. \n",
      "\n",
      "Event food_expert -> Transferring back to supervisor \n",
      "\n",
      "Event transfer_back_to_supervisor -> Successfully transferred back to supervisor \n",
      "\n",
      "Event supervisor -> A healthy snack recommendation would be to enjoy a banana, which is rich in vitamins and natural sugars, or incorporate spinach into a smoothie for extra nutrients and fiber. \n",
      "\n"
     ]
    }
   ],
   "source": [
    "for msg in result[\"messages\"]:\n",
    "    name = getattr(msg, \"name\", None) or (\n",
    "        msg.get(\"name\") if isinstance(msg, dict) else None\n",
    "    )\n",
    "    content = getattr(msg, \"content\", None) or (\n",
    "        msg.get(\"content\") if isinstance(msg, dict) else None\n",
    "    )\n",
    "    print(f\"Event {name} -> {content} \\n\")"
   ]
  }
 ],
 "metadata": {
  "kernelspec": {
   "display_name": ".venv",
   "language": "python",
   "name": "python3"
  },
  "language_info": {
   "codemirror_mode": {
    "name": "ipython",
    "version": 3
   },
   "file_extension": ".py",
   "mimetype": "text/x-python",
   "name": "python",
   "nbconvert_exporter": "python",
   "pygments_lexer": "ipython3",
   "version": "3.11.5"
  }
 },
 "nbformat": 4,
 "nbformat_minor": 5
}
