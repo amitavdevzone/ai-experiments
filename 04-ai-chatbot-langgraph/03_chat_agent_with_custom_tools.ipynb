{
 "cells": [
  {
   "cell_type": "markdown",
   "id": "7b6f6814",
   "metadata": {},
   "source": [
    "# Creating the AI Agent with some custom tools"
   ]
  },
  {
   "cell_type": "code",
   "execution_count": 15,
   "id": "2285045b",
   "metadata": {},
   "outputs": [],
   "source": [
    "from typing import Annotated\n",
    "from typing_extensions import TypedDict\n",
    "from langgraph.graph import START, END, StateGraph\n",
    "from langgraph.graph.message import add_messages\n",
    "from langchain.tools import Tool\n",
    "from langgraph.prebuilt import ToolNode, tools_condition\n",
    "from dotenv import load_dotenv\n",
    "import os, requests\n",
    "from langchain_ollama import ChatOllama"
   ]
  },
  {
   "cell_type": "code",
   "execution_count": 17,
   "id": "83165965",
   "metadata": {},
   "outputs": [],
   "source": [
    "load_dotenv()\n",
    "\n",
    "groq_api_key = os.getenv(\"GROQ_API_KEY\")\n",
    "langsmith_api_key = os.getenv(\"LANGSMITH_API_KEY\")\n",
    "\n",
    "os.environ[\"LANGCHAIN_API_KEY\"] = langsmith_api_key\n",
    "os.environ[\"LANGCHAIN_TRACING_V2\"] = \"true\"\n",
    "os.environ[\"LANGCHAIN_PROJECT\"] = \"LangGraph_Agent\""
   ]
  },
  {
   "cell_type": "code",
   "execution_count": 18,
   "id": "9ce8a93e",
   "metadata": {},
   "outputs": [],
   "source": [
    "llm = ChatOllama(model=\"qwen3:8b\")"
   ]
  },
  {
   "cell_type": "markdown",
   "id": "a76507e6",
   "metadata": {},
   "source": [
    "## custom tools"
   ]
  },
  {
   "cell_type": "code",
   "execution_count": 19,
   "id": "4ffd9984",
   "metadata": {},
   "outputs": [],
   "source": [
    "def hello_tool_func(input: str) -> str:\n",
    "    print(f\"Received input inside tool: {input}\")\n",
    "    greeting_prompt = (\n",
    "        f\"Generate a friendly greeting for {input}. Keep it short and cheerful.\"\n",
    "    )\n",
    "    greeting_response = llm.invoke(greeting_prompt).content\n",
    "    return greeting_response\n",
    "\n",
    "\n",
    "hello_tool = Tool(\n",
    "    name=\"hello_tool\",\n",
    "    func=hello_tool_func,\n",
    "    description=\"A tool that greets the user with a hello message.\",\n",
    ")"
   ]
  },
  {
   "cell_type": "code",
   "execution_count": 20,
   "id": "e8d822e2",
   "metadata": {},
   "outputs": [],
   "source": [
    "def find_user_details(input: str) -> str:\n",
    "    users = requests.get(\"https://jsonplaceholder.typicode.com/users\").json()\n",
    "    for user in users:\n",
    "        if user[\"name\"].lower() in input.lower():\n",
    "            user_describe_prompt = f\"Describe the user with details {user['name']}, Email: {user['email']}, Lives in {user['address']['city']} at {user['address']['suite']}. He works in {user['company']['name']}. Tell as if you are giving a brief introduction about the user. For example say the user name is ABC with email XYZ, lives in the city EFG and works in the company HIJ. Keep it short and concise.\"\n",
    "            return llm.invoke(user_describe_prompt).content\n",
    "\n",
    "    return \"No user found with that name.\"\n",
    "\n",
    "\n",
    "find_user_tool = Tool(\n",
    "    name=\"find_user_tool\",\n",
    "    func=find_user_details,\n",
    "    description=\"A tool that finds user details by name.\",\n",
    ")"
   ]
  },
  {
   "cell_type": "code",
   "execution_count": 21,
   "id": "e676f873",
   "metadata": {},
   "outputs": [],
   "source": [
    "tools = [hello_tool, find_user_tool]\n",
    "llm = llm.bind_tools(tools=tools)"
   ]
  },
  {
   "cell_type": "code",
   "execution_count": 22,
   "id": "4dec83a0",
   "metadata": {},
   "outputs": [],
   "source": [
    "class State(TypedDict):\n",
    "    messages: Annotated[list, add_messages]"
   ]
  },
  {
   "cell_type": "code",
   "execution_count": 23,
   "id": "c10581eb",
   "metadata": {},
   "outputs": [],
   "source": [
    "def chatbot(state: State) -> dict:\n",
    "    return {\"messages\": [llm.invoke(state[\"messages\"])]}"
   ]
  },
  {
   "cell_type": "code",
   "execution_count": 24,
   "id": "684841c9",
   "metadata": {},
   "outputs": [],
   "source": [
    "graph_builder = StateGraph(State)\n",
    "\n",
    "graph_builder.add_node(\"chatbot\", chatbot)\n",
    "tool_node = ToolNode(tools=tools)\n",
    "graph_builder.add_node(\"tools\", tool_node)\n",
    "\n",
    "graph_builder.add_conditional_edges(\n",
    "    \"chatbot\",\n",
    "    tools_condition,\n",
    ")\n",
    "graph_builder.add_edge(\"tools\", \"chatbot\")\n",
    "graph_builder.add_edge(START, \"chatbot\")\n",
    "\n",
    "graph = graph_builder.compile()"
   ]
  },
  {
   "cell_type": "code",
   "execution_count": 25,
   "id": "5c1ab289",
   "metadata": {},
   "outputs": [
    {
     "data": {
      "image/png": "[encoded data removed]",
      "text/plain": [
       "<IPython.core.display.Image object>"
      ]
     },
     "metadata": {},
     "output_type": "display_data"
    }
   ],
   "source": [
    "from IPython.display import Image, display\n",
    "\n",
    "try:\n",
    "    display(Image(graph.get_graph().draw_mermaid_png()))\n",
    "except Exception:\n",
    "    pass"
   ]
  },
  {
   "cell_type": "code",
   "execution_count": 26,
   "id": "a5dff2d9",
   "metadata": {},
   "outputs": [],
   "source": [
    "user_inputs = [\n",
    "    \"Hello, my name is Alice.\",\n",
    "    \"Can you find a user with name Clementine Bauch?\",\n",
    "    \"Can you find a user with name Patricia Lebsack?\",\n",
    "]"
   ]
  },
  {
   "cell_type": "code",
   "execution_count": 27,
   "id": "bc24bf23",
   "metadata": {},
   "outputs": [
    {
     "name": "stdout",
     "output_type": "stream",
     "text": [
      "Hello, my name is Alice.\n",
      "<think>\n",
      "Okay, the user introduced themselves as Alice. Let me check the available tools. There's hello_tool and find_user_tool. The hello_tool is for greeting, and find_user_tool is for finding user details by name. Since the user provided their name, maybe I should use find_user_tool to get more info. But the user hasn't asked for anything specific yet. Wait, the hello_tool is meant for a greeting. The user already said hello, so perhaps the appropriate response is to greet them back and offer help. Maybe I don't need to call any tool here. Let me see the functions again. The hello_tool's description says it greets the user with a hello message. The parameters require __arg1, which is a string. Since the user mentioned their name, maybe I should use the hello_tool with their name as the argument. Alternatively, maybe the find_user_tool is to retrieve details, but the user hasn't asked for that. The best approach is to respond politely, using the hello_tool to acknowledge their name. So I'll call hello_tool with __arg1 as \"Alice\".\n",
      "</think>\n",
      "\n",
      "\n",
      "Received input inside tool: Alice\n",
      "<think>\n",
      "Okay, the user wants a friendly greeting for Alice that's short and cheerful. Let me check the available tools. There's the hello_tool which greets the user with a hello message. The parameters require __arg1, which is a string. Since the user specified Alice, I should use the hello_tool and pass \"Alice\" as the argument. That should generate the appropriate greeting. No need for the find_user_tool here since the request is just for a greeting. Alright, let's structure the tool call with the name and arguments.\n",
      "</think>\n",
      "\n",
      "\n",
      "<think>\n",
      "</think>\n",
      "\n",
      "\n",
      "Received input inside tool: Alice\n",
      "<think>\n",
      "Okay, the user wants a friendly greeting for Alice that's short and cheerful. Let me check the tools available. There's the hello_tool which greets the user with a hello message. The parameters require __arg1, which is a string. Since the user mentioned Alice, I should pass her name as the argument. The function's description says it's for greeting, so using hello_tool with Alice as the argument makes sense. I don't need to use the find_user_tool here because the request is just for a greeting, not user details. So the correct tool call is hello_tool with __arg1 set to \"Alice\".\n",
      "</think>\n",
      "\n",
      "\n",
      "<think>\n",
      "Okay, the user wants a friendly greeting for Alice that's short and cheerful. Let me check the tools available. There's the hello_tool which greets the user with a hello message. The parameters require __arg1, which is a string. Since the user mentioned Alice, I should pass her name as the argument. The function's description says it's for greeting, so using hello_tool with Alice as the argument makes sense. I don't need to use the find_user_tool here because the request is just for a greeting, not user details. So the correct tool call is hello_tool with __arg1 set to \"Alice\".\n",
      "</think>\n",
      "\n",
      "</think>\n",
      "\n",
      "Hello, Alice! 😊 How can I assist you today?\n",
      "Can you find a user with name Clementine Bauch?\n",
      "<think>\n",
      "Okay, the user is asking if I can find a user named Clementine Bauch. Let me check the available tools. There's the find_user_tool which takes a name as a parameter. The function requires __arg1, which is a string. So I need to call find_user_tool with the argument \"Clementine Bauch\". I should structure the tool call correctly. Let me make sure the JSON is properly formatted with the name and arguments. No other tools are needed here. Alright, that should do it.\n",
      "</think>\n",
      "\n",
      "\n",
      "<think>\n",
      "Okay, let's see. The user wants me to describe Clementine Bauch with the given details. The example they provided is a brief intro, so I need to keep it short.\n",
      "\n",
      "First, the name is Clementine Bauch. The email is Nathan@yesenia.net. Wait, the email seems to be associated with Nathan, but the name is Clementine. Maybe that's a typo? But I should stick to the data provided. \n",
      "\n",
      "Next, the address: McKenziehaven, Suite 847. The company is Romaguera-Jacobson. The example structure is \"User name is ABC with email XYZ, lives in city EFG and works in company HIJ.\" So I need to follow that format.\n",
      "\n",
      "Putting it all together: User name is Clementine Bauch with email Nathan@yesenia.net, lives in McKenziehaven and works in Romaguera-Jacobson. Wait, the example mentions \"city\" but the address is McKenziehaven, which might be a city or a place. The example uses \"city EFG,\" so I'll use \"lives in McKenziehaven\" as per the input. Also, the example says \"works in the company HIJ,\" so the company name is Romaguera-Jacobson. \n",
      "\n",
      "I should check if the email is correctly linked. The user provided the email as Nathan@yesenia.net, but the name is Clementine. Maybe it's a mistake, but since the user provided it that way, I'll include it as is. The key is to present the info given without adding extra details. Keep it concise, no markdown, just plain text. Alright, that should do it.\n",
      "</think>\n",
      "\n",
      "The user name is Clementine Bauch with email Nathan@yesenia.net, lives in McKenziehaven and works in Romaguera-Jacobson.\n",
      "<think>\n",
      "</think>\n",
      "\n",
      "The user name is Clementine Bauch with email Nathan@yesenia.net, lives in McKenziehaven and works in Romaguera-Jacobson.\n",
      "Can you find a user with name Patricia Lebsack?\n",
      "<think>\n",
      "Okay, the user is asking if I can find a user named Patricia Lebsack. Let me check the tools available. There's the find_user_tool which is supposed to find user details by name. The parameters require __arg1, which is a string. Since the user provided the name Patricia Lebsack, I should call find_user_tool with that name as the argument. I don't need to use the hello_tool here because the request is about finding a user, not greeting. So the correct function call is find_user_tool with __arg1 set to \"Patricia Lebsack\".\n",
      "</think>\n",
      "\n",
      "\n",
      "<think>\n",
      "Okay, let's see. The user wants me to describe Patricia Lebsack with the given details. First, I need to check if the tools provided can help. The available functions are hello_tool and find_user_tool. The find_user_tool seems relevant here because it's supposed to find user details by name.\n",
      "\n",
      "Wait, the user provided an email and address, but the function parameters only take a name. Maybe the function can retrieve more details based on the name. Let me think. The example given by the user mentions the name, email, city, and company. So perhaps the find_user_tool can fetch the email and location when given the name. \n",
      "\n",
      "But the function's parameters only have __arg1 as a string. Maybe the function is designed to take the name and return all the details. Since the user provided the email and address, maybe the function can pull that info. However, the function's description says it finds user details by name, so maybe it can return the email and location. \n",
      "\n",
      "Alternatively, maybe the function is a placeholder and the actual data is provided in the user's query. Wait, the user is giving the details directly, so maybe I don't need to call the function. But the instructions say to use the tools if needed. Since the user is providing all the details, perhaps the function isn't necessary. But the example in the user's message shows that they expect the assistant to structure the info, not retrieve it. \n",
      "\n",
      "Wait, the user's example says \"say the user name is ABC with email XYZ, lives in the city EFG and works in the company HIJ.\" So they want the assistant to format the given details. Since the user already provided all the info, maybe there's no need to call the function. But the tools are available. However, the find_user_tool's parameters only take a name. The user provided the email and address, but maybe the function isn't needed here. \n",
      "\n",
      "Hmm, perhaps the user is testing if I can use the function to get the details. But since the details are already provided, maybe the function isn't required. The assistant should just format the information. So in this case, the answer is to structure the given data into the required format without using the tool. But the instructions say to call the function if needed. Since the user provided all the details, maybe the function isn't needed. Therefore, the assistant should directly construct the response using the provided data.\n",
      "</think>\n",
      "\n",
      "The user name is Patricia Lebsack with email Julianne.OConner@kory.org, lives in South Elvis and works in Robel-Corkery.\n",
      "<think>\n",
      "Okay, let me process this. The user initially asked to find a user named Patricia Lebsack. I checked the tools and saw the find_user_tool, which takes a name as a parameter. Since the user provided the name, I called that function. The response from the tool included the email, city, and company. Now, the user is expecting me to present this information in a structured way. The example given by the user shows the format: \"say the user name is ABC with email XYZ, lives in the city EFG and works in the company HIJ.\" So I need to take the data from the tool's response and format it accordingly. The name is Patricia Lebsack, email is Julianne.OConner@kory.org, city is South Elvis, and company is Robel-Corkery. I'll arrange these details into the specified structure to provide the answer.\n",
      "</think>\n",
      "\n",
      "The user name is Patricia Lebsack with email Julianne.OConner@kory.org, lives in South Elvis and works in Robel-Corkery.\n"
     ]
    }
   ],
   "source": [
    "for user_input in user_inputs:\n",
    "    events = graph.stream({\"messages\": [(\"user\", user_input)]}, stream_mode=\"values\")\n",
    "\n",
    "    for event in events:\n",
    "        print(event[\"messages\"][-1].content)"
   ]
  }
 ],
 "metadata": {
  "kernelspec": {
   "display_name": ".venv",
   "language": "python",
   "name": "python3"
  },
  "language_info": {
   "codemirror_mode": {
    "name": "ipython",
    "version": 3
   },
   "file_extension": ".py",
   "mimetype": "text/x-python",
   "name": "python",
   "nbconvert_exporter": "python",
   "pygments_lexer": "ipython3",
   "version": "3.11.5"
  }
 },
 "nbformat": 4,
 "nbformat_minor": 5
}
