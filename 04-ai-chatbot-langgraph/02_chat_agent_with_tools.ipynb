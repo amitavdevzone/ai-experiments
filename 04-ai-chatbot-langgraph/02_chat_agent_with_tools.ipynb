{
 "cells": [
  {
   "cell_type": "markdown",
   "id": "ee688275",
   "metadata": {},
   "source": [
    "# Working on the AI Agent with some community tools"
   ]
  },
  {
   "cell_type": "code",
   "execution_count": null,
   "id": "7f295ab7",
   "metadata": {},
   "outputs": [],
   "source": [
    "!pip install langgraph langsmith langchain langchain_groq langchain_community wikipedia arxiv"
   ]
  },
  {
   "cell_type": "code",
   "execution_count": null,
   "id": "a87151b5",
   "metadata": {},
   "outputs": [],
   "source": [
    "from dotenv import load_dotenv\n",
    "import os\n",
    "\n",
    "load_dotenv()\n",
    "\n",
    "groq_api_key = os.getenv(\"GROQ_API_KEY\")\n",
    "langsmith_api_key = os.getenv(\"LANGSMITH_API_KEY\")\n",
    "\n",
    "os.environ[\"LANGCHAIN_API_KEY\"] = langsmith_api_key\n",
    "os.environ[\"LANGCHAIN_TRACING_V2\"] = \"true\"\n",
    "os.environ[\"LANGCHAIN_PROJECT\"] = \"LangGraph_Agent\""
   ]
  },
  {
   "cell_type": "code",
   "execution_count": null,
   "id": "124ba649",
   "metadata": {},
   "outputs": [],
   "source": [
    "from typing import Annotated\n",
    "from typing_extensions import TypedDict\n",
    "from langgraph.graph import START, END, StateGraph\n",
    "from langgraph.graph.message import add_messages\n",
    "from langgraph.prebuilt import ToolNode, tools_condition"
   ]
  },
  {
   "cell_type": "markdown",
   "id": "c13f9fd6",
   "metadata": {},
   "source": [
    "## Setting up tools"
   ]
  },
  {
   "cell_type": "code",
   "execution_count": null,
   "id": "ce0bb77e",
   "metadata": {},
   "outputs": [],
   "source": [
    "from langchain_community.utilities import ArxivAPIWrapper, WikipediaAPIWrapper\n",
    "from langchain_community.tools import ArxivQueryRun, WikipediaQueryRun\n",
    "\n",
    "arxiv_wrapper = ArxivAPIWrapper(top_k_results=1, doc_content_chars_max=300)\n",
    "wiki_wrapper = WikipediaAPIWrapper(top_k_results=1, doc_content_chars_max=300)\n",
    "\n",
    "arxiv_tool = ArxivQueryRun(api_wrapper=arxiv_wrapper)\n",
    "wiki_tool = WikipediaQueryRun(api_wrapper=wiki_wrapper)"
   ]
  },
  {
   "cell_type": "markdown",
   "id": "fb508a17",
   "metadata": {},
   "source": [
    "### Example of Wiki tool usage"
   ]
  },
  {
   "cell_type": "code",
   "execution_count": null,
   "id": "30f98b46",
   "metadata": {},
   "outputs": [],
   "source": [
    "wiki_tool.invoke(\"Who is Zeng Laishun?\")"
   ]
  },
  {
   "cell_type": "code",
   "execution_count": null,
   "id": "cca12a09",
   "metadata": {},
   "outputs": [],
   "source": [
    "arxiv_tool.invoke(\"Attention is all you need\")"
   ]
  },
  {
   "cell_type": "markdown",
   "id": "090c2239",
   "metadata": {},
   "source": [
    "## Building the graph now"
   ]
  },
  {
   "cell_type": "code",
   "execution_count": null,
   "id": "59dc73e6",
   "metadata": {},
   "outputs": [],
   "source": [
    "from langchain_groq import ChatGroq\n",
    "\n",
    "llm = ChatGroq(api_key=groq_api_key, model=\"Gemma2-9b-It\")"
   ]
  },
  {
   "cell_type": "code",
   "execution_count": null,
   "id": "8949082d",
   "metadata": {},
   "outputs": [],
   "source": [
    "tools = [arxiv_tool, wiki_tool]"
   ]
  },
  {
   "cell_type": "code",
   "execution_count": null,
   "id": "22e2413d",
   "metadata": {},
   "outputs": [],
   "source": [
    "llm = llm.bind_tools(tools=tools)"
   ]
  },
  {
   "cell_type": "code",
   "execution_count": null,
   "id": "ca61e6b8",
   "metadata": {},
   "outputs": [],
   "source": [
    "class State(TypedDict):\n",
    "    messages: Annotated[list, add_messages]"
   ]
  },
  {
   "cell_type": "code",
   "execution_count": null,
   "id": "cf17298c",
   "metadata": {},
   "outputs": [],
   "source": [
    "def chatbot(state: State) -> str:\n",
    "    return {\"messages\": [llm.invoke(state[\"messages\"])]}"
   ]
  },
  {
   "cell_type": "code",
   "execution_count": null,
   "id": "55b07cf8",
   "metadata": {},
   "outputs": [],
   "source": [
    "graph_builder = StateGraph(State)\n",
    "\n",
    "graph_builder.add_node(\"chatbot\", chatbot)\n",
    "tool_node = ToolNode(tools=tools)\n",
    "graph_builder.add_node(\"tools\", tool_node)\n",
    "\n",
    "graph_builder.add_conditional_edges(\n",
    "    \"chatbot\",\n",
    "    tools_condition,\n",
    ")\n",
    "graph_builder.add_edge(\"tools\", \"chatbot\")\n",
    "graph_builder.add_edge(START, \"chatbot\")"
   ]
  },
  {
   "cell_type": "code",
   "execution_count": null,
   "id": "f02193da",
   "metadata": {},
   "outputs": [],
   "source": [
    "graph = graph_builder.compile()"
   ]
  },
  {
   "cell_type": "code",
   "execution_count": null,
   "id": "e7dcfbb1",
   "metadata": {},
   "outputs": [],
   "source": [
    "from IPython.display import Image, display\n",
    "\n",
    "try:\n",
    "    display(Image(graph.get_graph().draw_mermaid_png()))\n",
    "except Exception:\n",
    "    pass"
   ]
  },
  {
   "cell_type": "code",
   "execution_count": null,
   "id": "afac09e3",
   "metadata": {},
   "outputs": [],
   "source": [
    "user_inputs = [\n",
    "    # \"What is the latest research on quantum computing?\",\n",
    "    \"Who is Zeng Laishun?\",\n",
    "    \"What is the paper 'Attention is all you need' about?\",\n",
    "]\n",
    "\n",
    "for user_input in user_inputs:\n",
    "    events = graph.stream({\"messages\": [(\"user\", user_input)]}, stream_mode=\"values\")\n",
    "\n",
    "    for event in events:\n",
    "        event[\"messages\"][-1].pretty_print()"
   ]
  }
 ],
 "metadata": {
  "kernelspec": {
   "display_name": ".venv",
   "language": "python",
   "name": "python3"
  },
  "language_info": {
   "codemirror_mode": {
    "name": "ipython",
    "version": 3
   },
   "file_extension": ".py",
   "mimetype": "text/x-python",
   "name": "python",
   "nbconvert_exporter": "python",
   "pygments_lexer": "ipython3",
   "version": "3.11.5"
  }
 },
 "nbformat": 4,
 "nbformat_minor": 5
}
